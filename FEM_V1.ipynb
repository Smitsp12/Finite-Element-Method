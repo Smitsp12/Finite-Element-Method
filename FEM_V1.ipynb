{
 "cells": [
  {
   "cell_type": "markdown",
   "id": "4ee1c5b6-c240-45f0-87d2-3994631d96de",
   "metadata": {},
   "source": [
    "# Finite Element Method for 2D problem\n",
    "##### The program below solves a 2D structural problem with concentrated, distributed and gravity forces for displacement field and von-misses stress using Finite Element Method, using a single linear quadratic element with four nodes. (Problem ref: Dr. Clayton pettit's lectures on FEM @ UAlberta)"
   ]
  },
  {
   "cell_type": "markdown",
   "id": "f7e8e0be-150c-4050-a0a7-72f1825872c9",
   "metadata": {},
   "source": [
    "Scope: To simply solve the problem as stated"
   ]
  },
  {
   "cell_type": "code",
   "execution_count": 53,
   "id": "294fd9af-fa17-4d79-8321-3c09cd28fd90",
   "metadata": {},
   "outputs": [],
   "source": [
    "import numpy as np\n",
    "import math\n",
    "import matplotlib.pyplot as plt\n",
    "import sympy as sp\n",
    "from sympy import Matrix"
   ]
  },
  {
   "cell_type": "code",
   "execution_count": 88,
   "id": "cf0b7907-a04c-4e51-a590-32070d377f2c",
   "metadata": {},
   "outputs": [],
   "source": [
    "#defining material properties\n",
    "E = 1\n",
    "v = 0.3\n",
    "t = 1\n",
    "ro = 1\n",
    "\n",
    "#Constitutive matrix for plain stress condition\n",
    "C = (E/(1+v))*np.array([[1/(1-v), v/(1-v), 0], [v/(1-v), 1/(1-v), 0], [0, 0, 1/2]])"
   ]
  },
  {
   "cell_type": "markdown",
   "id": "27d5c84d-594f-4440-85c1-a40a9f6cccdb",
   "metadata": {},
   "source": [
    "## Stiffness Matrix"
   ]
  },
  {
   "cell_type": "code",
   "execution_count": 55,
   "id": "df7e7e3e-2d86-4fbc-8dc7-ceb9296793c2",
   "metadata": {},
   "outputs": [],
   "source": [
    "#shape functions for linear Quad elements\n",
    "eta = sp.Symbol(\"eta\")\n",
    "xi = sp.Symbol(\"xi\")\n",
    "\n",
    "n1 = (1-eta)*(1-xi)/4\n",
    "n2 = (1-eta)*(1+xi)/4\n",
    "n3 = (1+eta)*(1+xi)/4\n",
    "n4 = (1+eta)*(1-xi)/4\n",
    "n = Matrix([n1, n2, n3, n4])\n",
    "#n"
   ]
  },
  {
   "cell_type": "code",
   "execution_count": 56,
   "id": "2b1f7158-7ef4-42e8-9b52-027a0801161b",
   "metadata": {},
   "outputs": [],
   "source": [
    "#N matrix\n",
    "N = Matrix([[n1, 0, n2, 0, n3, 0, n4, 0], [0, n1, 0, n2, 0, n3, 0, n4]])\n",
    "#N"
   ]
  },
  {
   "cell_type": "code",
   "execution_count": 57,
   "id": "fb63a788-8d70-4068-8148-897df1c252cb",
   "metadata": {},
   "outputs": [],
   "source": [
    "#Jacobian Matrix\n",
    "def jacobian(x, y):\n",
    "\n",
    "    #mapping x-y to xi-eta coordinate system\n",
    "    X = sp.Add(sp.Mul(n1,x[0]), sp.Mul(n2,x[1]), sp.Mul(n3,x[2]), sp.Mul(n4,x[3]))\n",
    "    Y = sp.Add(sp.Mul(n1,y[0]), sp.Mul(n2,y[1]), sp.Mul(n3,y[2]), sp.Mul(n4,y[3]))\n",
    "\n",
    "    j1 = sp.diff(X, xi)\n",
    "    j2 = sp.diff(X, eta)\n",
    "    j3 = sp.diff(Y, xi)\n",
    "    j4 = sp.diff(Y, eta)\n",
    "\n",
    "    J = Matrix([[j1, j2], [j3, j4]])\n",
    "\n",
    "    return J"
   ]
  },
  {
   "cell_type": "code",
   "execution_count": 58,
   "id": "3ecf849e-d188-4169-a8a5-8a5b6dfa237e",
   "metadata": {},
   "outputs": [
    {
     "data": {
      "text/plain": [
       "'x = np.array([0,3,3.5,0.5])\\ny = np.array([0,1,3.2,3])\\njacob = jacobian(x, y)\\njacob'"
      ]
     },
     "execution_count": 58,
     "metadata": {},
     "output_type": "execute_result"
    }
   ],
   "source": [
    "\"\"\"x = np.array([0,3,3.5,0.5])\n",
    "y = np.array([0,1,3.2,3])\n",
    "jacob = jacobian(x, y)\n",
    "jacob\"\"\""
   ]
  },
  {
   "cell_type": "code",
   "execution_count": 59,
   "id": "d15df068-b383-4051-9177-d9b4b812e90d",
   "metadata": {},
   "outputs": [],
   "source": [
    "#B1 matrix \n",
    "B_1 = Matrix([[1, 0, 0, 0],[0, 0, 0, 1],[0, 1, 1, 0]])"
   ]
  },
  {
   "cell_type": "code",
   "execution_count": 60,
   "id": "3ada5ae0-271e-4e80-a75d-784463d019b6",
   "metadata": {},
   "outputs": [],
   "source": [
    "#coordinate mapping and B2 matrix\n",
    "def B_2(x, y):\n",
    "\n",
    "    J = jacobian(x, y)\n",
    "    zero = Matrix([[0, 0], [0, 0]])\n",
    "    J_inv_t = J.inv().T\n",
    "    J1 = J_inv_t.row_join(zero)\n",
    "    J2 = zero.row_join(J_inv_t)\n",
    "    B2 = J1.col_join(J2)\n",
    "\n",
    "    return (B2)"
   ]
  },
  {
   "cell_type": "code",
   "execution_count": 61,
   "id": "56670189-6915-4f70-947f-8aa9adc8b27d",
   "metadata": {},
   "outputs": [
    {
     "data": {
      "text/plain": [
       "'x = np.array([0,3,3.5,0.5])\\ny = np.array([0,1,3.2,3])\\nb2 = B_2(x, y)\\nb2'"
      ]
     },
     "execution_count": 61,
     "metadata": {},
     "output_type": "execute_result"
    }
   ],
   "source": [
    "\"\"\"x = np.array([0,3,3.5,0.5])\n",
    "y = np.array([0,1,3.2,3])\n",
    "b2 = B_2(x, y)\n",
    "b2\"\"\""
   ]
  },
  {
   "cell_type": "code",
   "execution_count": 62,
   "id": "a74e9275-df26-4a05-aa45-500016c55f08",
   "metadata": {},
   "outputs": [],
   "source": [
    "#B3 Matrix\n",
    "j = 0\n",
    "B_3 = sp.zeros(4,8)\n",
    "for i in range(0,8):\n",
    "    if i%2==0:\n",
    "        B_3[0,i] = sp.diff(n[j], xi)\n",
    "        B_3[1,i] = sp.diff(n[j], eta)\n",
    "        B_3[2,i+1] = sp.diff(n[j], xi)\n",
    "        B_3[3,i+1] = sp.diff(n[j], eta)\n",
    "        j = j + 1\n",
    "#B_3"
   ]
  },
  {
   "cell_type": "code",
   "execution_count": 63,
   "id": "8036fd42-d2dc-4893-b22f-18ef98277d6e",
   "metadata": {},
   "outputs": [],
   "source": [
    "#Calculating B Matrix\n",
    "def B_Matrix(x, y):\n",
    "    B = B_1 * B_2(x, y) * B_3\n",
    "    return B"
   ]
  },
  {
   "cell_type": "code",
   "execution_count": 64,
   "id": "1830828d-2602-4037-9d01-2d1d365b1354",
   "metadata": {},
   "outputs": [
    {
     "data": {
      "text/plain": [
       "'#x-y coordinates of nodes in element\\nx = np.array([0,3,3.5,0.5])\\ny = np.array([0,1,3.2,3])\\nB_m = B_Matrix(x, y)\\nB_m'"
      ]
     },
     "execution_count": 64,
     "metadata": {},
     "output_type": "execute_result"
    }
   ],
   "source": [
    "\"\"\"#x-y coordinates of nodes in element\n",
    "x = np.array([0,3,3.5,0.5])\n",
    "y = np.array([0,1,3.2,3])\n",
    "B_m = B_Matrix(x, y)\n",
    "B_m\"\"\""
   ]
  },
  {
   "cell_type": "code",
   "execution_count": 65,
   "id": "e1e4fae6-f017-4ff8-9718-a5bcfda5f50c",
   "metadata": {},
   "outputs": [],
   "source": [
    "#stiffness matrix using gaussian quadrature\n",
    "def stiffness(x, y):\n",
    "    B = B_Matrix(x, y)\n",
    "    J = jacobian(x, y)\n",
    "    k = B.T * C * B * J.det()\n",
    "    K = sp.lambdify([xi, eta], k)\n",
    "    r = math.sqrt(1/3)\n",
    "    I = K(r, r) + K(r, -r) + K(-r, r) + K(-r, -r)\n",
    "    \n",
    "    return I"
   ]
  },
  {
   "cell_type": "code",
   "execution_count": 66,
   "id": "fdee77f6-1b57-44e9-a136-1d438ecd0bb8",
   "metadata": {},
   "outputs": [],
   "source": [
    "x = np.array([0,3,3.5,0.5])\n",
    "y = np.array([0,1,3.2,3])\n",
    "k_e = stiffness(x, y)"
   ]
  },
  {
   "cell_type": "code",
   "execution_count": 67,
   "id": "2287d2de-c664-4ed8-8177-415b0a787488",
   "metadata": {},
   "outputs": [
    {
     "data": {
      "text/plain": [
       "array([[ 3.22589738e-01,  1.00264451e-01, -2.53618645e-01,\n",
       "         7.74655624e-05, -1.01186539e-01, -1.43610223e-01,\n",
       "         3.22154463e-02,  4.32683061e-02],\n",
       "       [ 1.00264451e-01,  3.88968901e-01,  2.75499930e-02,\n",
       "         8.95588957e-02, -1.43610223e-01, -1.38009391e-01,\n",
       "         1.57957787e-02, -3.40518406e-01],\n",
       "       [-2.53618645e-01,  2.75499930e-02,  7.12013087e-01,\n",
       "        -3.01881216e-01, -4.95334272e-02,  3.18003713e-02,\n",
       "        -4.08861014e-01,  2.42530852e-01],\n",
       "       [ 7.74655624e-05,  8.95588957e-02, -3.01881216e-01,\n",
       "         7.83882080e-01,  5.92728988e-02, -4.33180379e-01,\n",
       "         2.42530852e-01, -4.40260597e-01],\n",
       "       [-1.01186539e-01, -1.43610223e-01, -4.95334272e-02,\n",
       "         5.92728988e-02,  3.90713799e-01,  8.69272908e-02,\n",
       "        -2.39993833e-01, -2.58996654e-03],\n",
       "       [-1.43610223e-01, -1.38009391e-01,  3.18003713e-02,\n",
       "        -4.33180379e-01,  8.69272908e-02,  4.66187212e-01,\n",
       "         2.48825609e-02,  1.05002558e-01],\n",
       "       [ 3.22154463e-02,  1.57957787e-02, -4.08861014e-01,\n",
       "         2.42530852e-01, -2.39993833e-01,  2.48825609e-02,\n",
       "         6.16639401e-01, -2.83209191e-01],\n",
       "       [ 4.32683061e-02, -3.40518406e-01,  2.42530852e-01,\n",
       "        -4.40260597e-01, -2.58996654e-03,  1.05002558e-01,\n",
       "        -2.83209191e-01,  6.75776445e-01]])"
      ]
     },
     "execution_count": 67,
     "metadata": {},
     "output_type": "execute_result"
    }
   ],
   "source": [
    "k_e"
   ]
  },
  {
   "cell_type": "markdown",
   "id": "d04b10e0-1db3-41f4-b07e-eba4bdced0df",
   "metadata": {},
   "source": [
    "## Boundary conditions"
   ]
  },
  {
   "cell_type": "code",
   "execution_count": 68,
   "id": "f5fd99d8-b2a8-415a-a289-060ac26873e5",
   "metadata": {},
   "outputs": [],
   "source": [
    "#BC1 - Concentrated loads\n",
    "p = np.array([0,0,0,0,2,2,0,0])\n",
    "\n",
    "#BC2 - body forces - gravity\n",
    "b = np.array([0,-1])\n",
    "\n",
    "#BC3 - Distributed loads\n",
    "q = np.array([-1,0])"
   ]
  },
  {
   "cell_type": "markdown",
   "id": "cc535f1d-7306-4ceb-81cc-f5833211f5e4",
   "metadata": {},
   "source": [
    "### Concentrated Forces"
   ]
  },
  {
   "cell_type": "code",
   "execution_count": 69,
   "id": "dd9e9398-7c69-41a2-a533-6f3c17c9872f",
   "metadata": {},
   "outputs": [],
   "source": [
    "def f_conc(p):\n",
    "    f1 = Matrix(p)\n",
    "    return f1"
   ]
  },
  {
   "cell_type": "markdown",
   "id": "ef919e5b-7144-41de-824f-9f496ba20cf8",
   "metadata": {},
   "source": [
    "### Body Forces"
   ]
  },
  {
   "cell_type": "code",
   "execution_count": 70,
   "id": "05f08d21-63f6-4e2d-9a70-d76f586ab033",
   "metadata": {},
   "outputs": [],
   "source": [
    "def f_body(b):\n",
    "    J = jacobian(x, y)\n",
    "    b_f = N.T * Matrix(b) * J.det()\n",
    "    K = sp.lambdify([xi, eta], b_f)\n",
    "    r = math.sqrt(1/3)\n",
    "    I = K(r, r) + K(r, -r) + K(-r, r) + K(-r, -r)    \n",
    "    return I"
   ]
  },
  {
   "cell_type": "code",
   "execution_count": 71,
   "id": "0d439e9c-0258-4807-99f4-c96405bc7f61",
   "metadata": {},
   "outputs": [
    {
     "data": {
      "text/plain": [
       "array([[ 0.        ],\n",
       "       [-1.95833333],\n",
       "       [ 0.        ],\n",
       "       [-1.75833333],\n",
       "       [ 0.        ],\n",
       "       [-1.79166667],\n",
       "       [ 0.        ],\n",
       "       [-1.99166667]])"
      ]
     },
     "execution_count": 71,
     "metadata": {},
     "output_type": "execute_result"
    }
   ],
   "source": [
    "b = np.array([0,-1])\n",
    "vol = f_body(b)\n",
    "vol"
   ]
  },
  {
   "cell_type": "markdown",
   "id": "2a107b01-ac89-4eaf-b4bc-7a6486ddc3ba",
   "metadata": {},
   "source": [
    "### Distributed Forces"
   ]
  },
  {
   "cell_type": "markdown",
   "id": "ce394bac-bbe5-4e2e-94dc-23790ad795e6",
   "metadata": {},
   "source": [
    "Still need some work here to solve dl_dita scalar value automatically"
   ]
  },
  {
   "cell_type": "code",
   "execution_count": 72,
   "id": "d37aa73d-4755-436a-8e1b-582f8d3ef53a",
   "metadata": {},
   "outputs": [],
   "source": [
    "#need some work here in regards of automation\n",
    "\n",
    "def f_dist(q):\n",
    "    d_f = N.T * Matrix(q)\n",
    "    K = sp.lambdify([xi, eta], d_f)\n",
    "    I = 2*K(1,0)\n",
    "    dl_dita = math.sqrt(509)/20\n",
    "\n",
    "    return I*dl_dita"
   ]
  },
  {
   "cell_type": "code",
   "execution_count": 73,
   "id": "0670f82d-c00d-426d-94b9-e8081eee87f3",
   "metadata": {},
   "outputs": [
    {
     "data": {
      "text/plain": [
       "array([[-0.        ],\n",
       "       [ 0.        ],\n",
       "       [-1.12805142],\n",
       "       [ 0.        ],\n",
       "       [-1.12805142],\n",
       "       [ 0.        ],\n",
       "       [-0.        ],\n",
       "       [ 0.        ]])"
      ]
     },
     "execution_count": 73,
     "metadata": {},
     "output_type": "execute_result"
    }
   ],
   "source": [
    "fs = f_dist(q)\n",
    "fs"
   ]
  },
  {
   "cell_type": "code",
   "execution_count": 74,
   "id": "dc54ee40-56e3-4d05-8a21-61c7950e3b49",
   "metadata": {},
   "outputs": [],
   "source": [
    "f_total = f_conc(p) + f_body(b) + f_dist(q)"
   ]
  },
  {
   "cell_type": "code",
   "execution_count": 75,
   "id": "18e5897a-3977-4b83-8760-3dfa219bbe6b",
   "metadata": {},
   "outputs": [
    {
     "data": {
      "text/plain": [
       "array([[ 0.        ],\n",
       "       [-1.95833333],\n",
       "       [-1.12805142],\n",
       "       [-1.75833333],\n",
       "       [ 0.87194858],\n",
       "       [ 0.20833333],\n",
       "       [ 0.        ],\n",
       "       [-1.99166667]])"
      ]
     },
     "execution_count": 75,
     "metadata": {},
     "output_type": "execute_result"
    }
   ],
   "source": [
    "f_total = np.array(f_total.tolist(), dtype=np.float64)\n",
    "f_total"
   ]
  },
  {
   "cell_type": "markdown",
   "id": "e86e13fe-ac61-45bf-9158-11cfd7c45088",
   "metadata": {},
   "source": [
    "## Nodal Displacements"
   ]
  },
  {
   "cell_type": "markdown",
   "id": "88ac2a39-9602-4e63-967a-cfe8bc93cec4",
   "metadata": {},
   "source": [
    "you must drop rows and columns for each element, where the nodes hav known values. So when to drop them before or after making global stiffness matrix."
   ]
  },
  {
   "cell_type": "code",
   "execution_count": 99,
   "id": "3e785e38-4038-4309-9c01-1589d56d2e18",
   "metadata": {},
   "outputs": [],
   "source": [
    "#Removing rows and columns corresponding to known values of displacements\n",
    "K_global = k_e[4: , 4: ]\n",
    "f_global = f_total[4: ]"
   ]
  },
  {
   "cell_type": "code",
   "execution_count": 100,
   "id": "471499be-6771-458f-8321-6098099186df",
   "metadata": {},
   "outputs": [],
   "source": [
    "u = np.linalg.solve(K_global, f_global)"
   ]
  },
  {
   "cell_type": "code",
   "execution_count": 101,
   "id": "7738d223-3e16-46f6-8f55-a186b51bb825",
   "metadata": {},
   "outputs": [
    {
     "data": {
      "text/plain": [
       "array([[ 1.18986424],\n",
       "       [ 1.11203984],\n",
       "       [-1.25401361],\n",
       "       [-3.64099723]])"
      ]
     },
     "execution_count": 101,
     "metadata": {},
     "output_type": "execute_result"
    }
   ],
   "source": [
    "u"
   ]
  },
  {
   "cell_type": "code",
   "execution_count": 103,
   "id": "d1495708-76d6-4c9b-b76f-369799dd24ea",
   "metadata": {},
   "outputs": [
    {
     "data": {
      "text/plain": [
       "array([[ 0.        ],\n",
       "       [ 0.        ],\n",
       "       [ 0.        ],\n",
       "       [ 0.        ],\n",
       "       [ 1.18986424],\n",
       "       [ 1.11203984],\n",
       "       [-1.25401361],\n",
       "       [-3.64099723]])"
      ]
     },
     "execution_count": 103,
     "metadata": {},
     "output_type": "execute_result"
    }
   ],
   "source": [
    "#inserting known values of displacements from BCs\n",
    "disp = np.concatenate((np.zeros((4,1)),u))\n",
    "disp"
   ]
  },
  {
   "cell_type": "markdown",
   "id": "a9faead1-4176-4549-ab59-46ad7dc7a074",
   "metadata": {},
   "source": [
    "## Reaction Forces"
   ]
  },
  {
   "cell_type": "code",
   "execution_count": 105,
   "id": "320443b1-8525-4147-bd3d-7521ccdf311e",
   "metadata": {},
   "outputs": [
    {
     "data": {
      "text/plain": [
       "array([[-4.78036924e-01],\n",
       "       [ 8.95669842e-01],\n",
       "       [-3.93911659e-01],\n",
       "       [ 8.87663491e-01],\n",
       "       [ 8.71948583e-01],\n",
       "       [ 2.08333333e-01],\n",
       "       [ 2.22044605e-16],\n",
       "       [-1.99166667e+00]])"
      ]
     },
     "execution_count": 105,
     "metadata": {},
     "output_type": "execute_result"
    }
   ],
   "source": [
    "R_f = np.matmul(k_e, disp)\n",
    "R_f\n",
    "#This includes the externally applied force as well so to gett the actual reaction force we subtract the nodal forces"
   ]
  },
  {
   "cell_type": "code",
   "execution_count": 106,
   "id": "5da2eea1-91c6-48f6-88f5-c5e29f6b8514",
   "metadata": {},
   "outputs": [
    {
     "data": {
      "text/plain": [
       "array([[-4.78036924e-01],\n",
       "       [ 2.85400318e+00],\n",
       "       [ 7.34139759e-01],\n",
       "       [ 2.64599682e+00],\n",
       "       [-1.11022302e-16],\n",
       "       [ 5.55111512e-17],\n",
       "       [ 2.22044605e-16],\n",
       "       [ 2.22044605e-16]])"
      ]
     },
     "execution_count": 106,
     "metadata": {},
     "output_type": "execute_result"
    }
   ],
   "source": [
    "Reaction_f = R_f - f_total\n",
    "Reaction_f"
   ]
  },
  {
   "cell_type": "markdown",
   "id": "632d2c01-aad3-4bcb-ae5a-5fed276c5124",
   "metadata": {},
   "source": [
    "## Displacement Field"
   ]
  },
  {
   "cell_type": "code",
   "execution_count": 107,
   "id": "066b335d-9b52-4afa-822a-00e58c38fdc2",
   "metadata": {},
   "outputs": [],
   "source": [
    "Disp_f = N * disp"
   ]
  },
  {
   "cell_type": "code",
   "execution_count": 108,
   "id": "8ed8e0de-be2a-4054-92e8-a225431e18cf",
   "metadata": {},
   "outputs": [
    {
     "data": {
      "text/latex": [
       "$\\displaystyle \\left[\\begin{matrix}- 0.31350340205979 \\left(1 - \\xi\\right) \\left(\\eta + 1\\right) + 0.297466060769684 \\left(\\eta + 1\\right) \\left(\\xi + 1\\right)\\\\- 0.910249307960854 \\left(1 - \\xi\\right) \\left(\\eta + 1\\right) + 0.278009958848686 \\left(\\eta + 1\\right) \\left(\\xi + 1\\right)\\end{matrix}\\right]$"
      ],
      "text/plain": [
       "Matrix([\n",
       "[ -0.31350340205979*(1 - xi)*(eta + 1) + 0.297466060769684*(eta + 1)*(xi + 1)],\n",
       "[-0.910249307960854*(1 - xi)*(eta + 1) + 0.278009958848686*(eta + 1)*(xi + 1)]])"
      ]
     },
     "execution_count": 108,
     "metadata": {},
     "output_type": "execute_result"
    }
   ],
   "source": [
    "Disp_f"
   ]
  },
  {
   "cell_type": "markdown",
   "id": "fed6bdff-ef73-45f8-9fa7-aa5a269b3ece",
   "metadata": {},
   "source": [
    "## Strain"
   ]
  },
  {
   "cell_type": "code",
   "execution_count": 111,
   "id": "ac854336-6e84-4ceb-a9c4-262d87b51631",
   "metadata": {},
   "outputs": [],
   "source": [
    "strain = B_Matrix(x, y) * disp"
   ]
  },
  {
   "cell_type": "code",
   "execution_count": 112,
   "id": "c6a4f3e2-4c2c-4eef-ba54-0df583cac678",
   "metadata": {},
   "outputs": [
    {
     "data": {
      "text/latex": [
       "$\\displaystyle \\left[\\begin{matrix}- \\frac{1.25401360823916 \\left(\\frac{1}{4} - \\frac{\\xi}{4}\\right) \\left(0.2 \\eta - 0.3\\right)}{0.05 \\eta - 0.3 \\xi + 1.875} - \\frac{1.25401360823916 \\left(1.3 - 0.2 \\xi\\right) \\left(- \\frac{\\eta}{4} - \\frac{1}{4}\\right)}{0.05 \\eta - 0.3 \\xi + 1.875} + \\frac{1.18986424307874 \\left(1.3 - 0.2 \\xi\\right) \\left(\\frac{\\eta}{4} + \\frac{1}{4}\\right)}{0.05 \\eta - 0.3 \\xi + 1.875} + \\frac{1.18986424307874 \\left(0.2 \\eta - 0.3\\right) \\left(\\frac{\\xi}{4} + \\frac{1}{4}\\right)}{0.05 \\eta - 0.3 \\xi + 1.875}\\\\- \\frac{5.46149584776512 \\left(\\frac{1}{4} - \\frac{\\xi}{4}\\right)}{0.05 \\eta - 0.3 \\xi + 1.875} + \\frac{0.910249307960854 \\left(- \\frac{\\eta}{4} - \\frac{1}{4}\\right)}{0.05 \\eta - 0.3 \\xi + 1.875} - \\frac{0.278009958848686 \\left(\\frac{\\eta}{4} + \\frac{1}{4}\\right)}{0.05 \\eta - 0.3 \\xi + 1.875} + \\frac{1.66805975309212 \\left(\\frac{\\xi}{4} + \\frac{1}{4}\\right)}{0.05 \\eta - 0.3 \\xi + 1.875}\\\\- \\frac{3.64099723184342 \\left(\\frac{1}{4} - \\frac{\\xi}{4}\\right) \\left(0.2 \\eta - 0.3\\right)}{0.05 \\eta - 0.3 \\xi + 1.875} - \\frac{1.88102041235874 \\left(\\frac{1}{4} - \\frac{\\xi}{4}\\right)}{0.05 \\eta - 0.3 \\xi + 1.875} - \\frac{3.64099723184342 \\left(1.3 - 0.2 \\xi\\right) \\left(- \\frac{\\eta}{4} - \\frac{1}{4}\\right)}{0.05 \\eta - 0.3 \\xi + 1.875} + \\frac{1.11203983539474 \\left(1.3 - 0.2 \\xi\\right) \\left(\\frac{\\eta}{4} + \\frac{1}{4}\\right)}{0.05 \\eta - 0.3 \\xi + 1.875} + \\frac{0.31350340205979 \\left(- \\frac{\\eta}{4} - \\frac{1}{4}\\right)}{0.05 \\eta - 0.3 \\xi + 1.875} + \\frac{1.11203983539474 \\left(0.2 \\eta - 0.3\\right) \\left(\\frac{\\xi}{4} + \\frac{1}{4}\\right)}{0.05 \\eta - 0.3 \\xi + 1.875} - \\frac{0.297466060769684 \\left(\\frac{\\eta}{4} + \\frac{1}{4}\\right)}{0.05 \\eta - 0.3 \\xi + 1.875} + \\frac{1.7847963646181 \\left(\\frac{\\xi}{4} + \\frac{1}{4}\\right)}{0.05 \\eta - 0.3 \\xi + 1.875}\\end{matrix}\\right]$"
      ],
      "text/plain": [
       "Matrix([\n",
       "[                                                                                                                                                                                                                                                   -1.25401360823916*(1/4 - xi/4)*(0.2*eta - 0.3)/(0.05*eta - 0.3*xi + 1.875) - 1.25401360823916*(1.3 - 0.2*xi)*(-eta/4 - 1/4)/(0.05*eta - 0.3*xi + 1.875) + 1.18986424307874*(1.3 - 0.2*xi)*(eta/4 + 1/4)/(0.05*eta - 0.3*xi + 1.875) + 1.18986424307874*(0.2*eta - 0.3)*(xi/4 + 1/4)/(0.05*eta - 0.3*xi + 1.875)],\n",
       "[                                                                                                                                                                                                                                                                                                               -5.46149584776512*(1/4 - xi/4)/(0.05*eta - 0.3*xi + 1.875) + 0.910249307960854*(-eta/4 - 1/4)/(0.05*eta - 0.3*xi + 1.875) - 0.278009958848686*(eta/4 + 1/4)/(0.05*eta - 0.3*xi + 1.875) + 1.66805975309212*(xi/4 + 1/4)/(0.05*eta - 0.3*xi + 1.875)],\n",
       "[-3.64099723184342*(1/4 - xi/4)*(0.2*eta - 0.3)/(0.05*eta - 0.3*xi + 1.875) - 1.88102041235874*(1/4 - xi/4)/(0.05*eta - 0.3*xi + 1.875) - 3.64099723184342*(1.3 - 0.2*xi)*(-eta/4 - 1/4)/(0.05*eta - 0.3*xi + 1.875) + 1.11203983539474*(1.3 - 0.2*xi)*(eta/4 + 1/4)/(0.05*eta - 0.3*xi + 1.875) + 0.31350340205979*(-eta/4 - 1/4)/(0.05*eta - 0.3*xi + 1.875) + 1.11203983539474*(0.2*eta - 0.3)*(xi/4 + 1/4)/(0.05*eta - 0.3*xi + 1.875) - 0.297466060769684*(eta/4 + 1/4)/(0.05*eta - 0.3*xi + 1.875) + 1.7847963646181*(xi/4 + 1/4)/(0.05*eta - 0.3*xi + 1.875)]])"
      ]
     },
     "execution_count": 112,
     "metadata": {},
     "output_type": "execute_result"
    }
   ],
   "source": [
    "strain"
   ]
  },
  {
   "cell_type": "markdown",
   "id": "c041de1c-608d-48ce-a51e-526ba45f21c8",
   "metadata": {},
   "source": [
    "## Stress"
   ]
  },
  {
   "cell_type": "code",
   "execution_count": 115,
   "id": "1fcf1f1b-135a-43c5-a28c-d0aeb1824dd2",
   "metadata": {},
   "outputs": [],
   "source": [
    "stress = C * strain"
   ]
  },
  {
   "cell_type": "code",
   "execution_count": 116,
   "id": "2488b630-3b40-428d-8555-2034c599ce96",
   "metadata": {},
   "outputs": [
    {
     "data": {
      "text/latex": [
       "$\\displaystyle \\left[\\begin{matrix}- \\frac{1.37803693213094 \\left(\\frac{1}{4} - \\frac{\\xi}{4}\\right) \\left(0.2 \\eta - 0.3\\right)}{0.05 \\eta - 0.3 \\xi + 1.875} - \\frac{1.80049313662586 \\left(\\frac{1}{4} - \\frac{\\xi}{4}\\right)}{0.05 \\eta - 0.3 \\xi + 1.875} - \\frac{1.37803693213094 \\left(1.3 - 0.2 \\xi\\right) \\left(- \\frac{\\eta}{4} - \\frac{1}{4}\\right)}{0.05 \\eta - 0.3 \\xi + 1.875} + \\frac{1.30754312426235 \\left(1.3 - 0.2 \\xi\\right) \\left(\\frac{\\eta}{4} + \\frac{1}{4}\\right)}{0.05 \\eta - 0.3 \\xi + 1.875} + \\frac{0.300082189437644 \\left(- \\frac{\\eta}{4} - \\frac{1}{4}\\right)}{0.05 \\eta - 0.3 \\xi + 1.875} + \\frac{1.30754312426235 \\left(0.2 \\eta - 0.3\\right) \\left(\\frac{\\xi}{4} + \\frac{1}{4}\\right)}{0.05 \\eta - 0.3 \\xi + 1.875} - \\frac{0.0916516347852811 \\left(\\frac{\\eta}{4} + \\frac{1}{4}\\right)}{0.05 \\eta - 0.3 \\xi + 1.875} + \\frac{0.549909808711687 \\left(\\frac{\\xi}{4} + \\frac{1}{4}\\right)}{0.05 \\eta - 0.3 \\xi + 1.875}\\\\- \\frac{0.413411079639283 \\left(\\frac{1}{4} - \\frac{\\xi}{4}\\right) \\left(0.2 \\eta - 0.3\\right)}{0.05 \\eta - 0.3 \\xi + 1.875} - \\frac{6.00164378875288 \\left(\\frac{1}{4} - \\frac{\\xi}{4}\\right)}{0.05 \\eta - 0.3 \\xi + 1.875} - \\frac{0.413411079639283 \\left(1.3 - 0.2 \\xi\\right) \\left(- \\frac{\\eta}{4} - \\frac{1}{4}\\right)}{0.05 \\eta - 0.3 \\xi + 1.875} + \\frac{0.392262937278704 \\left(1.3 - 0.2 \\xi\\right) \\left(\\frac{\\eta}{4} + \\frac{1}{4}\\right)}{0.05 \\eta - 0.3 \\xi + 1.875} + \\frac{1.00027396479215 \\left(- \\frac{\\eta}{4} - \\frac{1}{4}\\right)}{0.05 \\eta - 0.3 \\xi + 1.875} + \\frac{0.392262937278704 \\left(0.2 \\eta - 0.3\\right) \\left(\\frac{\\xi}{4} + \\frac{1}{4}\\right)}{0.05 \\eta - 0.3 \\xi + 1.875} - \\frac{0.30550544928427 \\left(\\frac{\\eta}{4} + \\frac{1}{4}\\right)}{0.05 \\eta - 0.3 \\xi + 1.875} + \\frac{1.83303269570562 \\left(\\frac{\\xi}{4} + \\frac{1}{4}\\right)}{0.05 \\eta - 0.3 \\xi + 1.875}\\\\- \\frac{1.40038355070901 \\left(\\frac{1}{4} - \\frac{\\xi}{4}\\right) \\left(0.2 \\eta - 0.3\\right)}{0.05 \\eta - 0.3 \\xi + 1.875} - \\frac{0.723469389368745 \\left(\\frac{1}{4} - \\frac{\\xi}{4}\\right)}{0.05 \\eta - 0.3 \\xi + 1.875} - \\frac{1.40038355070901 \\left(1.3 - 0.2 \\xi\\right) \\left(- \\frac{\\eta}{4} - \\frac{1}{4}\\right)}{0.05 \\eta - 0.3 \\xi + 1.875} + \\frac{0.427707628997979 \\left(1.3 - 0.2 \\xi\\right) \\left(\\frac{\\eta}{4} + \\frac{1}{4}\\right)}{0.05 \\eta - 0.3 \\xi + 1.875} + \\frac{0.120578231561458 \\left(- \\frac{\\eta}{4} - \\frac{1}{4}\\right)}{0.05 \\eta - 0.3 \\xi + 1.875} + \\frac{0.427707628997979 \\left(0.2 \\eta - 0.3\\right) \\left(\\frac{\\xi}{4} + \\frac{1}{4}\\right)}{0.05 \\eta - 0.3 \\xi + 1.875} - \\frac{0.114410023372955 \\left(\\frac{\\eta}{4} + \\frac{1}{4}\\right)}{0.05 \\eta - 0.3 \\xi + 1.875} + \\frac{0.686460140237732 \\left(\\frac{\\xi}{4} + \\frac{1}{4}\\right)}{0.05 \\eta - 0.3 \\xi + 1.875}\\end{matrix}\\right]$"
      ],
      "text/plain": [
       "Matrix([\n",
       "[  -1.37803693213094*(1/4 - xi/4)*(0.2*eta - 0.3)/(0.05*eta - 0.3*xi + 1.875) - 1.80049313662586*(1/4 - xi/4)/(0.05*eta - 0.3*xi + 1.875) - 1.37803693213094*(1.3 - 0.2*xi)*(-eta/4 - 1/4)/(0.05*eta - 0.3*xi + 1.875) + 1.30754312426235*(1.3 - 0.2*xi)*(eta/4 + 1/4)/(0.05*eta - 0.3*xi + 1.875) + 0.300082189437644*(-eta/4 - 1/4)/(0.05*eta - 0.3*xi + 1.875) + 1.30754312426235*(0.2*eta - 0.3)*(xi/4 + 1/4)/(0.05*eta - 0.3*xi + 1.875) - 0.0916516347852811*(eta/4 + 1/4)/(0.05*eta - 0.3*xi + 1.875) + 0.549909808711687*(xi/4 + 1/4)/(0.05*eta - 0.3*xi + 1.875)],\n",
       "[  -0.413411079639283*(1/4 - xi/4)*(0.2*eta - 0.3)/(0.05*eta - 0.3*xi + 1.875) - 6.00164378875288*(1/4 - xi/4)/(0.05*eta - 0.3*xi + 1.875) - 0.413411079639283*(1.3 - 0.2*xi)*(-eta/4 - 1/4)/(0.05*eta - 0.3*xi + 1.875) + 0.392262937278704*(1.3 - 0.2*xi)*(eta/4 + 1/4)/(0.05*eta - 0.3*xi + 1.875) + 1.00027396479215*(-eta/4 - 1/4)/(0.05*eta - 0.3*xi + 1.875) + 0.392262937278704*(0.2*eta - 0.3)*(xi/4 + 1/4)/(0.05*eta - 0.3*xi + 1.875) - 0.30550544928427*(eta/4 + 1/4)/(0.05*eta - 0.3*xi + 1.875) + 1.83303269570562*(xi/4 + 1/4)/(0.05*eta - 0.3*xi + 1.875)],\n",
       "[-1.40038355070901*(1/4 - xi/4)*(0.2*eta - 0.3)/(0.05*eta - 0.3*xi + 1.875) - 0.723469389368745*(1/4 - xi/4)/(0.05*eta - 0.3*xi + 1.875) - 1.40038355070901*(1.3 - 0.2*xi)*(-eta/4 - 1/4)/(0.05*eta - 0.3*xi + 1.875) + 0.427707628997979*(1.3 - 0.2*xi)*(eta/4 + 1/4)/(0.05*eta - 0.3*xi + 1.875) + 0.120578231561458*(-eta/4 - 1/4)/(0.05*eta - 0.3*xi + 1.875) + 0.427707628997979*(0.2*eta - 0.3)*(xi/4 + 1/4)/(0.05*eta - 0.3*xi + 1.875) - 0.114410023372955*(eta/4 + 1/4)/(0.05*eta - 0.3*xi + 1.875) + 0.686460140237732*(xi/4 + 1/4)/(0.05*eta - 0.3*xi + 1.875)]])"
      ]
     },
     "execution_count": 116,
     "metadata": {},
     "output_type": "execute_result"
    }
   ],
   "source": [
    "stress"
   ]
  },
  {
   "cell_type": "markdown",
   "id": "71d35d4d-0f7d-4a0c-8777-9113ead99bb4",
   "metadata": {},
   "source": [
    "Scope for later versions\n",
    "1) Instead of using one element, use four. Create a function to generate Global stiffness matrix and force value.\n",
    "2) Incorporate point moment and distributed moment (might need to derive theoretically everything. Nodal dof will change in this case.)\n",
    "3) Improving distributed loads (dl_dita matrix)\n",
    "4) Visualizations"
   ]
  }
 ],
 "metadata": {
  "kernelspec": {
   "display_name": "Python 3 (ipykernel)",
   "language": "python",
   "name": "python3"
  },
  "language_info": {
   "codemirror_mode": {
    "name": "ipython",
    "version": 3
   },
   "file_extension": ".py",
   "mimetype": "text/x-python",
   "name": "python",
   "nbconvert_exporter": "python",
   "pygments_lexer": "ipython3",
   "version": "3.11.4"
  }
 },
 "nbformat": 4,
 "nbformat_minor": 5
}
